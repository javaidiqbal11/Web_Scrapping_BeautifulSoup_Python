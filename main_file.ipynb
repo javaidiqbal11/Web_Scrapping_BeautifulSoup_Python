{
 "cells": [
  {
   "cell_type": "code",
   "execution_count": 2,
   "metadata": {
    "collapsed": true
   },
   "outputs": [],
   "source": [
    "#--Web scraping packages\n",
    "from bs4 import BeautifulSoup\n",
    "import requests\n",
    "#Pandas/numpy for data manipulation\n",
    "import numpy as np"
   ]
  },
  {
   "cell_type": "code",
   "execution_count": 3,
   "outputs": [],
   "source": [
    "#load URLs we want to scrape into an array\n",
    "BASE_URL = [\n",
    "'http://www.reuters.com/finance/stocks/company-officers/GOOG.O',\n",
    "'http://www.reuters.com/finance/stocks/company-officers/AMZN',\n",
    "'http://www.reuters.com/finance/stocks/company-officers/AAPL'\n",
    "]"
   ],
   "metadata": {
    "collapsed": false
   }
  },
  {
   "cell_type": "code",
   "execution_count": 4,
   "outputs": [],
   "source": [
    "#loading empty array for board members\n",
    "board_members = []\n",
    "#Loop through our URLs we loaded above\n",
    "for b in BASE_URL:\n",
    "    html = requests.get(b).text\n",
    "    soup = BeautifulSoup(html, \"html.parser\")\n",
    "    #identify table we want to scrape\n",
    "    officer_table = soup.find('table', {\"class\" : \"dataTable\"})\n",
    "    #try clause to skip any companies with missing/empty board member tables\n",
    "    try:\n",
    "        #loop through table, grab each of the 4 columns shown (try one of the links yourself to see the layout)\n",
    "        for row in officer_table.find_all('tr'):\n",
    "            cols = row.find_all('td')\n",
    "            if len(cols) == 4:\n",
    "               board_members.append((b, cols[0].text.strip(), cols[1].text.strip(), cols[2].text.strip(), cols[3].text.strip()))\n",
    "    except: pass"
   ],
   "metadata": {
    "collapsed": false
   }
  },
  {
   "cell_type": "code",
   "execution_count": 5,
   "outputs": [
    {
     "data": {
      "text/plain": "0"
     },
     "execution_count": 5,
     "metadata": {},
     "output_type": "execute_result"
    }
   ],
   "source": [
    "#convert output to new array, check length\n",
    "board_array = np.asarray(board_members)\n",
    "len(board_array)"
   ],
   "metadata": {
    "collapsed": false
   }
  },
  {
   "cell_type": "code",
   "execution_count": null,
   "outputs": [],
   "source": [
    "import pandas as pd\n",
    "#convert new array to dataframe\n",
    "df = pd.DataFrame(board_array)"
   ],
   "metadata": {
    "collapsed": false
   }
  },
  {
   "cell_type": "code",
   "execution_count": null,
   "outputs": [],
   "source": [],
   "metadata": {
    "collapsed": false
   }
  }
 ],
 "metadata": {
  "kernelspec": {
   "display_name": "Python 3",
   "language": "python",
   "name": "python3"
  },
  "language_info": {
   "codemirror_mode": {
    "name": "ipython",
    "version": 2
   },
   "file_extension": ".py",
   "mimetype": "text/x-python",
   "name": "python",
   "nbconvert_exporter": "python",
   "pygments_lexer": "ipython2",
   "version": "2.7.6"
  }
 },
 "nbformat": 4,
 "nbformat_minor": 0
}

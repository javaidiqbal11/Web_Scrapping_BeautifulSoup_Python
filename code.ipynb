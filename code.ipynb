{
 "cells": [
  {
   "cell_type": "code",
   "execution_count": 8,
   "metadata": {
    "_cell_guid": "b1076dfc-b9ad-4769-8c92-a6c4dae69d19",
    "_uuid": "8f2839f25d086af736a60e9eeb907d3b93b6e0e5"
   },
   "outputs": [],
   "source": [
    "#--Web scraping packages\n",
    "from bs4 import BeautifulSoup\n",
    "import requests\n",
    "\n",
    "#Pandas/numpy for data manipulation\n",
    "import pandas as pd\n",
    "import numpy as np"
   ]
  },
  {
   "cell_type": "code",
   "execution_count": 9,
   "metadata": {
    "_cell_guid": "79c7e3d0-c299-4dcb-8224-4455121ee9b0",
    "_uuid": "d629ff2d2480ee46fbb7e2d37f6b5fab8052498a",
    "collapsed": true
   },
   "outputs": [],
   "source": [
    "#load URLs we want to scrape into an array\n",
    "BASE_URL = [\n",
    "    'https://www.reuters.com/companies/GOOGL.OQ/people',\n",
    "    'https://www.reuters.com/companies/AMZN.OQ/people',\n",
    "    'https://www.reuters.com/companies/AAPL.OQ/people'\n",
    "]"
   ]
  },
  {
   "cell_type": "code",
   "execution_count": 10,
   "outputs": [
    {
     "name": "stdout",
     "output_type": "stream",
     "text": [
      "[('https://www.reuters.com/companies/GOOGL.OQ/people', 'John L. HennessyIndependent Chairman of the Board', '68', 'Independent Chairman of the Board', '2018'), ('https://www.reuters.com/companies/GOOGL.OQ/people', 'Sundar PichaiChief Executive Officer, Director', '49', 'Chief Executive Officer, Director', '2019'), ('https://www.reuters.com/companies/GOOGL.OQ/people', 'Sergey BrinCo-Founder, Director', '47', 'Co-Founder, Director', '2019'), ('https://www.reuters.com/companies/GOOGL.OQ/people', 'Ruth M. PoratChief Financial Officer, Senior Vice President', '63', 'Chief Financial Officer, Senior Vice President', '2015'), ('https://www.reuters.com/companies/GOOGL.OQ/people', 'Kent WalkerSenior VicePresident of Global Affairs and Chief Legal Officer, Google, and CorporateSecretary of Alphabet', '60', 'Senior VicePresident of Global Affairs and Chief Legal Officer, Google, and CorporateSecretary of Alphabet', '2020'), ('https://www.reuters.com/companies/GOOGL.OQ/people', 'Prabhakar RaghavanSenior Vice President of Google', '60', 'Senior Vice President of Google', '2018'), ('https://www.reuters.com/companies/GOOGL.OQ/people', 'Philipp SchindlerSenior Vice President of Google', '60', 'Senior Vice President of Google', '2018'), ('https://www.reuters.com/companies/GOOGL.OQ/people', 'Lawrence E. PageDirector', '48', 'Director', '2019'), ('https://www.reuters.com/companies/GOOGL.OQ/people', 'Frances ArnoldIndependent Director', '64', 'Independent Director', '2019'), ('https://www.reuters.com/companies/GOOGL.OQ/people', 'L. John DoerrIndependent Director', '69', 'Independent Director', '1999'), ('https://www.reuters.com/companies/GOOGL.OQ/people', 'Roger W. FergusonIndependent Director', '69', 'Independent Director', '2016'), ('https://www.reuters.com/companies/GOOGL.OQ/people', 'Ann MatherIndependent Director', '61', 'Independent Director', '2005'), ('https://www.reuters.com/companies/GOOGL.OQ/people', 'Alan R. MulallyIndependent Director', '75', 'Independent Director', '2014'), ('https://www.reuters.com/companies/GOOGL.OQ/people', 'Kavitark Ram ShriramIndependent Director', '64', 'Independent Director', '1998'), ('https://www.reuters.com/companies/GOOGL.OQ/people', 'Robin L. WashingtonIndependent Director', '58', 'Independent Director', '2019'), ('https://www.reuters.com/companies/AMZN.OQ/people', 'Jeffrey P. BezosChairman of the Board, President, Chief Executive Officer', '57', 'Chairman of the Board, President, Chief Executive Officer', '2000'), ('https://www.reuters.com/companies/AMZN.OQ/people', 'Brian T. OlsavskyChief Financial Officer, Senior Vice President', '57', 'Chief Financial Officer, Senior Vice President', '2015'), ('https://www.reuters.com/companies/AMZN.OQ/people', 'David H. ClarkChief Executive Office, Worldwide Consumer', '48', 'Chief Executive Office, Worldwide Consumer', '2021'), ('https://www.reuters.com/companies/AMZN.OQ/people', 'Andrew R. JassyChief Executive Officer of Amazon Web Services', '53', 'Chief Executive Officer of Amazon Web Services', '2016'), ('https://www.reuters.com/companies/AMZN.OQ/people', 'David A. ZapolskySenior Vice President, General Counsel, Secretary', '57', 'Senior Vice President, General Counsel, Secretary', '2014'), ('https://www.reuters.com/companies/AMZN.OQ/people', 'Shelley L. ReynoldsVice President, Worldwide Controller, Principal Accounting Officer', '56', 'Vice President, Worldwide Controller, Principal Accounting Officer', '2007'), ('https://www.reuters.com/companies/AMZN.OQ/people', 'John R. JoyceVice President of Alliances', '61', 'Vice President of Alliances', '2021'), ('https://www.reuters.com/companies/AMZN.OQ/people', 'Keith Brian AlexanderIndependent Director', '69', 'Independent Director', '2020'), ('https://www.reuters.com/companies/AMZN.OQ/people', 'Jamie S. GorelickIndependent Director', '70', 'Independent Director', '2012'), ('https://www.reuters.com/companies/AMZN.OQ/people', 'Daniel P. HuttenlocherIndependent Director', '62', 'Independent Director', '2016'), ('https://www.reuters.com/companies/AMZN.OQ/people', 'Judith A. McGrathIndependent Director', '68', 'Independent Director', '2014'), ('https://www.reuters.com/companies/AMZN.OQ/people', 'Indra K NooyiIndependent Director', '65', 'Independent Director', '2019'), ('https://www.reuters.com/companies/AMZN.OQ/people', 'Jonathan J. RubinsteinIndependent Director', '64', 'Independent Director', '2010'), ('https://www.reuters.com/companies/AMZN.OQ/people', 'Thomas O. RyderIndependent Director', '76', 'Independent Director', '2011'), ('https://www.reuters.com/companies/AMZN.OQ/people', 'Patricia Q. StonesiferIndependent Director', '64', 'Independent Director', '2017'), ('https://www.reuters.com/companies/AMZN.OQ/people', 'Wendell P. WeeksIndependent Director', '61', 'Independent Director', '2016'), ('https://www.reuters.com/companies/AAPL.OQ/people', 'Arthur D. LevinsonIndependent Chairman of the Board', '70', 'Independent Chairman of the Board', '2011'), ('https://www.reuters.com/companies/AAPL.OQ/people', 'Timothy D. CookChief Executive Officer, Director', '60', 'Chief Executive Officer, Director', '2011'), ('https://www.reuters.com/companies/AAPL.OQ/people', 'Luca MaestriChief Financial Officer, Senior Vice President', '57', 'Chief Financial Officer, Senior Vice President', '2014'), ('https://www.reuters.com/companies/AAPL.OQ/people', 'Jeffrey E. WilliamsChief Operating Officer', '57', 'Chief Operating Officer', '2018'), ('https://www.reuters.com/companies/AAPL.OQ/people', 'Katherine L. AdamsSenior Vice President, General Counsel, Secretary', '56', 'Senior Vice President, General Counsel, Secretary', '2017'), ('https://www.reuters.com/companies/AAPL.OQ/people', \"Deirdre O'BrienSenior Vice President - Retail + People\", '54', 'Senior Vice President - Retail + People', '2019'), ('https://www.reuters.com/companies/AAPL.OQ/people', 'Monica LozanoDirector', '64', 'Director', '2021'), ('https://www.reuters.com/companies/AAPL.OQ/people', 'James A. BellIndependent Director', '72', 'Independent Director', '2015'), ('https://www.reuters.com/companies/AAPL.OQ/people', 'Albert A. GoreIndependent Director', '72', 'Independent Director', '2003'), ('https://www.reuters.com/companies/AAPL.OQ/people', 'Andrea JungIndependent Director', '62', 'Independent Director', '2008'), ('https://www.reuters.com/companies/AAPL.OQ/people', 'Ronald D. SugarIndependent Director', '72', 'Independent Director', '2010'), ('https://www.reuters.com/companies/AAPL.OQ/people', 'Sue WagnerIndependent Director', '59', 'Independent Director', '2014')]\n"
     ]
    }
   ],
   "source": [
    "#loading empty array for board members\n",
    "board_members = []\n",
    "#Loop through our URLs we loaded above\n",
    "for b in BASE_URL:\n",
    "    html = requests.get(b).text\n",
    "    soup = BeautifulSoup(html, \"html.parser\")\n",
    "    #identify table we want to scrape\n",
    "    officer_table = soup.find('table', {\"class\" : \"MarketsTable-officers-1Yb5u\"})\n",
    "\n",
    "    #try clause to skip any companies with missing/empty board member tables\n",
    "\n",
    "    try:\n",
    "        #loop through table, grab each of the 4 columns shown (try one of the links yourself to see the layout)\n",
    "        for row in officer_table.find_all('tr'):\n",
    "            cols = row.find_all('td')\n",
    "            if len(cols) == 4:\n",
    "               board_members.append((b, cols[0].text.strip(), cols[1].text.strip(), cols[2].text.strip(), cols[3].text.strip()))\n",
    "    except: pass\n",
    "print(board_members)"
   ],
   "metadata": {
    "collapsed": false
   }
  },
  {
   "cell_type": "code",
   "execution_count": 11,
   "outputs": [
    {
     "data": {
      "text/plain": "<table class=\"table-container MarketsTable-officers-1Yb5u\"><thead><tr class=\"MarketsTable-header-2NLA1\"><th cellpadding=\"1\" cellspacing=\"1\" class=\"MarketsTable-officer_name-AAQuH\" scope=\"column\"><span class=\"TextLabel__text-label___3oCVw TextLabel__gray___1V4fk TextLabel__medium___t9PWg\">Name</span></th><th cellpadding=\"1\" cellspacing=\"1\" class=\"MarketsTable-officer_age-yjWsZ\" scope=\"column\"><span class=\"TextLabel__text-label___3oCVw TextLabel__gray___1V4fk TextLabel__medium___t9PWg\">Age</span></th><th cellpadding=\"1\" cellspacing=\"1\" class=\"MarketsTable-officer_title-1Vc6L\" scope=\"column\"><span class=\"TextLabel__text-label___3oCVw TextLabel__gray___1V4fk TextLabel__medium___t9PWg\">Position</span></th><th cellpadding=\"1\" cellspacing=\"1\" class=\"MarketsTable-officer_since-31qfq\" scope=\"column\"><span class=\"TextLabel__text-label___3oCVw TextLabel__gray___1V4fk TextLabel__medium___t9PWg\">Appointed</span></th></tr></thead><tbody><tr class=\"data\"><td cellpadding=\"1\" cellspacing=\"1\" class=\"MarketsTable-officer_name-AAQuH\"><span class=\"TextLabel__text-label___3oCVw TextLabel__black___2FN-Z TextLabel__regular___2X0ym MarketsTable-name-1U4vs\">Arthur D. Levinson</span><div class=\"TextLabel__text-label___3oCVw TextLabel__gray___1V4fk TextLabel__regular___2X0ym MarketsTable-subcell-l_NnB\">Independent Chairman of the Board</div></td><td cellpadding=\"1\" cellspacing=\"1\" class=\"MarketsTable-officer_age-yjWsZ\"><span class=\"TextLabel__text-label___3oCVw TextLabel__black___2FN-Z TextLabel__regular___2X0ym MarketsTable-name-1U4vs\">70</span></td><td cellpadding=\"1\" cellspacing=\"1\" class=\"MarketsTable-officer_title-1Vc6L\"><span class=\"TextLabel__text-label___3oCVw TextLabel__black___2FN-Z TextLabel__regular___2X0ym MarketsTable-name-1U4vs\">Independent Chairman of the Board</span></td><td cellpadding=\"1\" cellspacing=\"1\" class=\"MarketsTable-officer_since-31qfq\"><span class=\"TextLabel__text-label___3oCVw TextLabel__black___2FN-Z TextLabel__regular___2X0ym MarketsTable-name-1U4vs\">2011</span></td></tr><tr class=\"data\"><td cellpadding=\"1\" cellspacing=\"1\" class=\"MarketsTable-officer_name-AAQuH\"><span class=\"TextLabel__text-label___3oCVw TextLabel__black___2FN-Z TextLabel__regular___2X0ym MarketsTable-name-1U4vs\">Timothy D. Cook</span><div class=\"TextLabel__text-label___3oCVw TextLabel__gray___1V4fk TextLabel__regular___2X0ym MarketsTable-subcell-l_NnB\">Chief Executive Officer, Director</div></td><td cellpadding=\"1\" cellspacing=\"1\" class=\"MarketsTable-officer_age-yjWsZ\"><span class=\"TextLabel__text-label___3oCVw TextLabel__black___2FN-Z TextLabel__regular___2X0ym MarketsTable-name-1U4vs\">60</span></td><td cellpadding=\"1\" cellspacing=\"1\" class=\"MarketsTable-officer_title-1Vc6L\"><span class=\"TextLabel__text-label___3oCVw TextLabel__black___2FN-Z TextLabel__regular___2X0ym MarketsTable-name-1U4vs\">Chief Executive Officer, Director</span></td><td cellpadding=\"1\" cellspacing=\"1\" class=\"MarketsTable-officer_since-31qfq\"><span class=\"TextLabel__text-label___3oCVw TextLabel__black___2FN-Z TextLabel__regular___2X0ym MarketsTable-name-1U4vs\">2011</span></td></tr><tr class=\"data\"><td cellpadding=\"1\" cellspacing=\"1\" class=\"MarketsTable-officer_name-AAQuH\"><span class=\"TextLabel__text-label___3oCVw TextLabel__black___2FN-Z TextLabel__regular___2X0ym MarketsTable-name-1U4vs\">Luca Maestri</span><div class=\"TextLabel__text-label___3oCVw TextLabel__gray___1V4fk TextLabel__regular___2X0ym MarketsTable-subcell-l_NnB\">Chief Financial Officer, Senior Vice President</div></td><td cellpadding=\"1\" cellspacing=\"1\" class=\"MarketsTable-officer_age-yjWsZ\"><span class=\"TextLabel__text-label___3oCVw TextLabel__black___2FN-Z TextLabel__regular___2X0ym MarketsTable-name-1U4vs\">57</span></td><td cellpadding=\"1\" cellspacing=\"1\" class=\"MarketsTable-officer_title-1Vc6L\"><span class=\"TextLabel__text-label___3oCVw TextLabel__black___2FN-Z TextLabel__regular___2X0ym MarketsTable-name-1U4vs\">Chief Financial Officer, Senior Vice President</span></td><td cellpadding=\"1\" cellspacing=\"1\" class=\"MarketsTable-officer_since-31qfq\"><span class=\"TextLabel__text-label___3oCVw TextLabel__black___2FN-Z TextLabel__regular___2X0ym MarketsTable-name-1U4vs\">2014</span></td></tr><tr class=\"data\"><td cellpadding=\"1\" cellspacing=\"1\" class=\"MarketsTable-officer_name-AAQuH\"><span class=\"TextLabel__text-label___3oCVw TextLabel__black___2FN-Z TextLabel__regular___2X0ym MarketsTable-name-1U4vs\">Jeffrey E. Williams</span><div class=\"TextLabel__text-label___3oCVw TextLabel__gray___1V4fk TextLabel__regular___2X0ym MarketsTable-subcell-l_NnB\">Chief Operating Officer</div></td><td cellpadding=\"1\" cellspacing=\"1\" class=\"MarketsTable-officer_age-yjWsZ\"><span class=\"TextLabel__text-label___3oCVw TextLabel__black___2FN-Z TextLabel__regular___2X0ym MarketsTable-name-1U4vs\">57</span></td><td cellpadding=\"1\" cellspacing=\"1\" class=\"MarketsTable-officer_title-1Vc6L\"><span class=\"TextLabel__text-label___3oCVw TextLabel__black___2FN-Z TextLabel__regular___2X0ym MarketsTable-name-1U4vs\">Chief Operating Officer</span></td><td cellpadding=\"1\" cellspacing=\"1\" class=\"MarketsTable-officer_since-31qfq\"><span class=\"TextLabel__text-label___3oCVw TextLabel__black___2FN-Z TextLabel__regular___2X0ym MarketsTable-name-1U4vs\">2018</span></td></tr><tr class=\"data\"><td cellpadding=\"1\" cellspacing=\"1\" class=\"MarketsTable-officer_name-AAQuH\"><span class=\"TextLabel__text-label___3oCVw TextLabel__black___2FN-Z TextLabel__regular___2X0ym MarketsTable-name-1U4vs\">Katherine L. Adams</span><div class=\"TextLabel__text-label___3oCVw TextLabel__gray___1V4fk TextLabel__regular___2X0ym MarketsTable-subcell-l_NnB\">Senior Vice President, General Counsel, Secretary</div></td><td cellpadding=\"1\" cellspacing=\"1\" class=\"MarketsTable-officer_age-yjWsZ\"><span class=\"TextLabel__text-label___3oCVw TextLabel__black___2FN-Z TextLabel__regular___2X0ym MarketsTable-name-1U4vs\">56</span></td><td cellpadding=\"1\" cellspacing=\"1\" class=\"MarketsTable-officer_title-1Vc6L\"><span class=\"TextLabel__text-label___3oCVw TextLabel__black___2FN-Z TextLabel__regular___2X0ym MarketsTable-name-1U4vs\">Senior Vice President, General Counsel, Secretary</span></td><td cellpadding=\"1\" cellspacing=\"1\" class=\"MarketsTable-officer_since-31qfq\"><span class=\"TextLabel__text-label___3oCVw TextLabel__black___2FN-Z TextLabel__regular___2X0ym MarketsTable-name-1U4vs\">2017</span></td></tr><tr class=\"data\"><td cellpadding=\"1\" cellspacing=\"1\" class=\"MarketsTable-officer_name-AAQuH\"><span class=\"TextLabel__text-label___3oCVw TextLabel__black___2FN-Z TextLabel__regular___2X0ym MarketsTable-name-1U4vs\">Deirdre O'Brien</span><div class=\"TextLabel__text-label___3oCVw TextLabel__gray___1V4fk TextLabel__regular___2X0ym MarketsTable-subcell-l_NnB\">Senior Vice President - Retail + People</div></td><td cellpadding=\"1\" cellspacing=\"1\" class=\"MarketsTable-officer_age-yjWsZ\"><span class=\"TextLabel__text-label___3oCVw TextLabel__black___2FN-Z TextLabel__regular___2X0ym MarketsTable-name-1U4vs\">54</span></td><td cellpadding=\"1\" cellspacing=\"1\" class=\"MarketsTable-officer_title-1Vc6L\"><span class=\"TextLabel__text-label___3oCVw TextLabel__black___2FN-Z TextLabel__regular___2X0ym MarketsTable-name-1U4vs\">Senior Vice President - Retail + People</span></td><td cellpadding=\"1\" cellspacing=\"1\" class=\"MarketsTable-officer_since-31qfq\"><span class=\"TextLabel__text-label___3oCVw TextLabel__black___2FN-Z TextLabel__regular___2X0ym MarketsTable-name-1U4vs\">2019</span></td></tr><tr class=\"data\"><td cellpadding=\"1\" cellspacing=\"1\" class=\"MarketsTable-officer_name-AAQuH\"><span class=\"TextLabel__text-label___3oCVw TextLabel__black___2FN-Z TextLabel__regular___2X0ym MarketsTable-name-1U4vs\">Monica Lozano</span><div class=\"TextLabel__text-label___3oCVw TextLabel__gray___1V4fk TextLabel__regular___2X0ym MarketsTable-subcell-l_NnB\">Director</div></td><td cellpadding=\"1\" cellspacing=\"1\" class=\"MarketsTable-officer_age-yjWsZ\"><span class=\"TextLabel__text-label___3oCVw TextLabel__black___2FN-Z TextLabel__regular___2X0ym MarketsTable-name-1U4vs\">64</span></td><td cellpadding=\"1\" cellspacing=\"1\" class=\"MarketsTable-officer_title-1Vc6L\"><span class=\"TextLabel__text-label___3oCVw TextLabel__black___2FN-Z TextLabel__regular___2X0ym MarketsTable-name-1U4vs\">Director</span></td><td cellpadding=\"1\" cellspacing=\"1\" class=\"MarketsTable-officer_since-31qfq\"><span class=\"TextLabel__text-label___3oCVw TextLabel__black___2FN-Z TextLabel__regular___2X0ym MarketsTable-name-1U4vs\">2021</span></td></tr><tr class=\"data\"><td cellpadding=\"1\" cellspacing=\"1\" class=\"MarketsTable-officer_name-AAQuH\"><span class=\"TextLabel__text-label___3oCVw TextLabel__black___2FN-Z TextLabel__regular___2X0ym MarketsTable-name-1U4vs\">James A. Bell</span><div class=\"TextLabel__text-label___3oCVw TextLabel__gray___1V4fk TextLabel__regular___2X0ym MarketsTable-subcell-l_NnB\">Independent Director</div></td><td cellpadding=\"1\" cellspacing=\"1\" class=\"MarketsTable-officer_age-yjWsZ\"><span class=\"TextLabel__text-label___3oCVw TextLabel__black___2FN-Z TextLabel__regular___2X0ym MarketsTable-name-1U4vs\">72</span></td><td cellpadding=\"1\" cellspacing=\"1\" class=\"MarketsTable-officer_title-1Vc6L\"><span class=\"TextLabel__text-label___3oCVw TextLabel__black___2FN-Z TextLabel__regular___2X0ym MarketsTable-name-1U4vs\">Independent Director</span></td><td cellpadding=\"1\" cellspacing=\"1\" class=\"MarketsTable-officer_since-31qfq\"><span class=\"TextLabel__text-label___3oCVw TextLabel__black___2FN-Z TextLabel__regular___2X0ym MarketsTable-name-1U4vs\">2015</span></td></tr><tr class=\"data\"><td cellpadding=\"1\" cellspacing=\"1\" class=\"MarketsTable-officer_name-AAQuH\"><span class=\"TextLabel__text-label___3oCVw TextLabel__black___2FN-Z TextLabel__regular___2X0ym MarketsTable-name-1U4vs\">Albert A. Gore</span><div class=\"TextLabel__text-label___3oCVw TextLabel__gray___1V4fk TextLabel__regular___2X0ym MarketsTable-subcell-l_NnB\">Independent Director</div></td><td cellpadding=\"1\" cellspacing=\"1\" class=\"MarketsTable-officer_age-yjWsZ\"><span class=\"TextLabel__text-label___3oCVw TextLabel__black___2FN-Z TextLabel__regular___2X0ym MarketsTable-name-1U4vs\">72</span></td><td cellpadding=\"1\" cellspacing=\"1\" class=\"MarketsTable-officer_title-1Vc6L\"><span class=\"TextLabel__text-label___3oCVw TextLabel__black___2FN-Z TextLabel__regular___2X0ym MarketsTable-name-1U4vs\">Independent Director</span></td><td cellpadding=\"1\" cellspacing=\"1\" class=\"MarketsTable-officer_since-31qfq\"><span class=\"TextLabel__text-label___3oCVw TextLabel__black___2FN-Z TextLabel__regular___2X0ym MarketsTable-name-1U4vs\">2003</span></td></tr><tr class=\"data\"><td cellpadding=\"1\" cellspacing=\"1\" class=\"MarketsTable-officer_name-AAQuH\"><span class=\"TextLabel__text-label___3oCVw TextLabel__black___2FN-Z TextLabel__regular___2X0ym MarketsTable-name-1U4vs\">Andrea Jung</span><div class=\"TextLabel__text-label___3oCVw TextLabel__gray___1V4fk TextLabel__regular___2X0ym MarketsTable-subcell-l_NnB\">Independent Director</div></td><td cellpadding=\"1\" cellspacing=\"1\" class=\"MarketsTable-officer_age-yjWsZ\"><span class=\"TextLabel__text-label___3oCVw TextLabel__black___2FN-Z TextLabel__regular___2X0ym MarketsTable-name-1U4vs\">62</span></td><td cellpadding=\"1\" cellspacing=\"1\" class=\"MarketsTable-officer_title-1Vc6L\"><span class=\"TextLabel__text-label___3oCVw TextLabel__black___2FN-Z TextLabel__regular___2X0ym MarketsTable-name-1U4vs\">Independent Director</span></td><td cellpadding=\"1\" cellspacing=\"1\" class=\"MarketsTable-officer_since-31qfq\"><span class=\"TextLabel__text-label___3oCVw TextLabel__black___2FN-Z TextLabel__regular___2X0ym MarketsTable-name-1U4vs\">2008</span></td></tr><tr class=\"data\"><td cellpadding=\"1\" cellspacing=\"1\" class=\"MarketsTable-officer_name-AAQuH\"><span class=\"TextLabel__text-label___3oCVw TextLabel__black___2FN-Z TextLabel__regular___2X0ym MarketsTable-name-1U4vs\">Ronald D. Sugar</span><div class=\"TextLabel__text-label___3oCVw TextLabel__gray___1V4fk TextLabel__regular___2X0ym MarketsTable-subcell-l_NnB\">Independent Director</div></td><td cellpadding=\"1\" cellspacing=\"1\" class=\"MarketsTable-officer_age-yjWsZ\"><span class=\"TextLabel__text-label___3oCVw TextLabel__black___2FN-Z TextLabel__regular___2X0ym MarketsTable-name-1U4vs\">72</span></td><td cellpadding=\"1\" cellspacing=\"1\" class=\"MarketsTable-officer_title-1Vc6L\"><span class=\"TextLabel__text-label___3oCVw TextLabel__black___2FN-Z TextLabel__regular___2X0ym MarketsTable-name-1U4vs\">Independent Director</span></td><td cellpadding=\"1\" cellspacing=\"1\" class=\"MarketsTable-officer_since-31qfq\"><span class=\"TextLabel__text-label___3oCVw TextLabel__black___2FN-Z TextLabel__regular___2X0ym MarketsTable-name-1U4vs\">2010</span></td></tr><tr class=\"data\"><td cellpadding=\"1\" cellspacing=\"1\" class=\"MarketsTable-officer_name-AAQuH\"><span class=\"TextLabel__text-label___3oCVw TextLabel__black___2FN-Z TextLabel__regular___2X0ym MarketsTable-name-1U4vs\">Sue Wagner</span><div class=\"TextLabel__text-label___3oCVw TextLabel__gray___1V4fk TextLabel__regular___2X0ym MarketsTable-subcell-l_NnB\">Independent Director</div></td><td cellpadding=\"1\" cellspacing=\"1\" class=\"MarketsTable-officer_age-yjWsZ\"><span class=\"TextLabel__text-label___3oCVw TextLabel__black___2FN-Z TextLabel__regular___2X0ym MarketsTable-name-1U4vs\">59</span></td><td cellpadding=\"1\" cellspacing=\"1\" class=\"MarketsTable-officer_title-1Vc6L\"><span class=\"TextLabel__text-label___3oCVw TextLabel__black___2FN-Z TextLabel__regular___2X0ym MarketsTable-name-1U4vs\">Independent Director</span></td><td cellpadding=\"1\" cellspacing=\"1\" class=\"MarketsTable-officer_since-31qfq\"><span class=\"TextLabel__text-label___3oCVw TextLabel__black___2FN-Z TextLabel__regular___2X0ym MarketsTable-name-1U4vs\">2014</span></td></tr></tbody></table>"
     },
     "execution_count": 11,
     "metadata": {},
     "output_type": "execute_result"
    }
   ],
   "source": [
    "officer_table"
   ],
   "metadata": {
    "collapsed": false
   }
  },
  {
   "cell_type": "code",
   "execution_count": 12,
   "outputs": [
    {
     "data": {
      "text/plain": "43"
     },
     "execution_count": 12,
     "metadata": {},
     "output_type": "execute_result"
    }
   ],
   "source": [
    "#convert output to new array, check length\n",
    "board_array = np.asarray(board_members)\n",
    "len(board_array)"
   ],
   "metadata": {
    "collapsed": false
   }
  },
  {
   "cell_type": "code",
   "execution_count": 13,
   "outputs": [],
   "source": [
    "#convert new array to dataframe\n",
    "df = pd.DataFrame(board_array)"
   ],
   "metadata": {
    "collapsed": false
   }
  },
  {
   "cell_type": "code",
   "execution_count": 14,
   "outputs": [
    {
     "data": {
      "text/plain": "                                                   0  \\\n0  https://www.reuters.com/companies/GOOGL.OQ/people   \n1  https://www.reuters.com/companies/GOOGL.OQ/people   \n2  https://www.reuters.com/companies/GOOGL.OQ/people   \n3  https://www.reuters.com/companies/GOOGL.OQ/people   \n4  https://www.reuters.com/companies/GOOGL.OQ/people   \n\n                                                   1   2  \\\n0  John L. HennessyIndependent Chairman of the Board  68   \n1     Sundar PichaiChief Executive Officer, Director  49   \n2                    Sergey BrinCo-Founder, Director  47   \n3  Ruth M. PoratChief Financial Officer, Senior V...  63   \n4  Kent WalkerSenior VicePresident of Global Affa...  60   \n\n                                                   3     4  \n0                  Independent Chairman of the Board  2018  \n1                  Chief Executive Officer, Director  2019  \n2                               Co-Founder, Director  2019  \n3     Chief Financial Officer, Senior Vice President  2015  \n4  Senior VicePresident of Global Affairs and Chi...  2020  ",
      "text/html": "<div>\n<style scoped>\n    .dataframe tbody tr th:only-of-type {\n        vertical-align: middle;\n    }\n\n    .dataframe tbody tr th {\n        vertical-align: top;\n    }\n\n    .dataframe thead th {\n        text-align: right;\n    }\n</style>\n<table border=\"1\" class=\"dataframe\">\n  <thead>\n    <tr style=\"text-align: right;\">\n      <th></th>\n      <th>0</th>\n      <th>1</th>\n      <th>2</th>\n      <th>3</th>\n      <th>4</th>\n    </tr>\n  </thead>\n  <tbody>\n    <tr>\n      <th>0</th>\n      <td>https://www.reuters.com/companies/GOOGL.OQ/people</td>\n      <td>John L. HennessyIndependent Chairman of the Board</td>\n      <td>68</td>\n      <td>Independent Chairman of the Board</td>\n      <td>2018</td>\n    </tr>\n    <tr>\n      <th>1</th>\n      <td>https://www.reuters.com/companies/GOOGL.OQ/people</td>\n      <td>Sundar PichaiChief Executive Officer, Director</td>\n      <td>49</td>\n      <td>Chief Executive Officer, Director</td>\n      <td>2019</td>\n    </tr>\n    <tr>\n      <th>2</th>\n      <td>https://www.reuters.com/companies/GOOGL.OQ/people</td>\n      <td>Sergey BrinCo-Founder, Director</td>\n      <td>47</td>\n      <td>Co-Founder, Director</td>\n      <td>2019</td>\n    </tr>\n    <tr>\n      <th>3</th>\n      <td>https://www.reuters.com/companies/GOOGL.OQ/people</td>\n      <td>Ruth M. PoratChief Financial Officer, Senior V...</td>\n      <td>63</td>\n      <td>Chief Financial Officer, Senior Vice President</td>\n      <td>2015</td>\n    </tr>\n    <tr>\n      <th>4</th>\n      <td>https://www.reuters.com/companies/GOOGL.OQ/people</td>\n      <td>Kent WalkerSenior VicePresident of Global Affa...</td>\n      <td>60</td>\n      <td>Senior VicePresident of Global Affairs and Chi...</td>\n      <td>2020</td>\n    </tr>\n  </tbody>\n</table>\n</div>"
     },
     "execution_count": 14,
     "metadata": {},
     "output_type": "execute_result"
    }
   ],
   "source": [
    "df.head()"
   ],
   "metadata": {
    "collapsed": false
   }
  },
  {
   "cell_type": "code",
   "execution_count": 15,
   "outputs": [
    {
     "data": {
      "text/plain": "                                                 URL  \\\n0  https://www.reuters.com/companies/GOOGL.OQ/people   \n1  https://www.reuters.com/companies/GOOGL.OQ/people   \n2  https://www.reuters.com/companies/GOOGL.OQ/people   \n3  https://www.reuters.com/companies/GOOGL.OQ/people   \n4  https://www.reuters.com/companies/GOOGL.OQ/people   \n\n                                                Name Age  \\\n0  John L. HennessyIndependent Chairman of the Board  68   \n1     Sundar PichaiChief Executive Officer, Director  49   \n2                    Sergey BrinCo-Founder, Director  47   \n3  Ruth M. PoratChief Financial Officer, Senior V...  63   \n4  Kent WalkerSenior VicePresident of Global Affa...  60   \n\n                                         Year_Joined Title  \n0                  Independent Chairman of the Board  2018  \n1                  Chief Executive Officer, Director  2019  \n2                               Co-Founder, Director  2019  \n3     Chief Financial Officer, Senior Vice President  2015  \n4  Senior VicePresident of Global Affairs and Chi...  2020  ",
      "text/html": "<div>\n<style scoped>\n    .dataframe tbody tr th:only-of-type {\n        vertical-align: middle;\n    }\n\n    .dataframe tbody tr th {\n        vertical-align: top;\n    }\n\n    .dataframe thead th {\n        text-align: right;\n    }\n</style>\n<table border=\"1\" class=\"dataframe\">\n  <thead>\n    <tr style=\"text-align: right;\">\n      <th></th>\n      <th>URL</th>\n      <th>Name</th>\n      <th>Age</th>\n      <th>Year_Joined</th>\n      <th>Title</th>\n    </tr>\n  </thead>\n  <tbody>\n    <tr>\n      <th>0</th>\n      <td>https://www.reuters.com/companies/GOOGL.OQ/people</td>\n      <td>John L. HennessyIndependent Chairman of the Board</td>\n      <td>68</td>\n      <td>Independent Chairman of the Board</td>\n      <td>2018</td>\n    </tr>\n    <tr>\n      <th>1</th>\n      <td>https://www.reuters.com/companies/GOOGL.OQ/people</td>\n      <td>Sundar PichaiChief Executive Officer, Director</td>\n      <td>49</td>\n      <td>Chief Executive Officer, Director</td>\n      <td>2019</td>\n    </tr>\n    <tr>\n      <th>2</th>\n      <td>https://www.reuters.com/companies/GOOGL.OQ/people</td>\n      <td>Sergey BrinCo-Founder, Director</td>\n      <td>47</td>\n      <td>Co-Founder, Director</td>\n      <td>2019</td>\n    </tr>\n    <tr>\n      <th>3</th>\n      <td>https://www.reuters.com/companies/GOOGL.OQ/people</td>\n      <td>Ruth M. PoratChief Financial Officer, Senior V...</td>\n      <td>63</td>\n      <td>Chief Financial Officer, Senior Vice President</td>\n      <td>2015</td>\n    </tr>\n    <tr>\n      <th>4</th>\n      <td>https://www.reuters.com/companies/GOOGL.OQ/people</td>\n      <td>Kent WalkerSenior VicePresident of Global Affa...</td>\n      <td>60</td>\n      <td>Senior VicePresident of Global Affairs and Chi...</td>\n      <td>2020</td>\n    </tr>\n  </tbody>\n</table>\n</div>"
     },
     "execution_count": 15,
     "metadata": {},
     "output_type": "execute_result"
    }
   ],
   "source": [
    "#rename columns, check output\n",
    "df.columns = ['URL', 'Name', 'Age','Year_Joined', 'Title']\n",
    "df.head()\n"
   ],
   "metadata": {
    "collapsed": false
   }
  },
  {
   "cell_type": "code",
   "execution_count": 16,
   "outputs": [],
   "source": [
    "#Saving File as captured\n",
    "df.to_csv('test.csv')\n"
   ],
   "metadata": {
    "collapsed": false
   }
  }
 ],
 "metadata": {
  "kernelspec": {
   "display_name": "Python 3",
   "language": "python",
   "name": "python3"
  },
  "language_info": {
   "codemirror_mode": {
    "name": "ipython",
    "version": 3
   },
   "file_extension": ".py",
   "mimetype": "text/x-python",
   "name": "python",
   "nbconvert_exporter": "python",
   "pygments_lexer": "ipython3",
   "version": "3.6.6"
  }
 },
 "nbformat": 4,
 "nbformat_minor": 1
}
